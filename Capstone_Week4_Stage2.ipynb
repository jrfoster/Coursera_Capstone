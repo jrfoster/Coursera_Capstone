{
 "cells": [
  {
   "cell_type": "markdown",
   "metadata": {},
   "source": [
    "# Applied Data Science Capstone\n",
    "\n",
    "This notebook contains the study for the IBM Applied Data Science Capstone Project on Coursera. In this study I consider myself to be the owner of an existing, successful, brick-and-mortar coffee shop near Arizona State University in Tempe, AZ and seek to find a neighborhood into which I can expand in or near the City and County of Denver, CO. Using demographic and location data from a Location-Based Social Network (LBSN) I will attempt to use K-Means Clustering to find similar locations in Denver that I'm hoping will allow me to limit my search areas and focus instead on more specific location and available real-estate.\n",
    "\n",
    "## Background\n",
    "\n",
    "I identify my shop with those small coffee shops that took root mostly in immigrant neighborhoods in the United States during the 1950s and '60s. While mine is in a modern, suburban area, people with some leisure time and some money to spare still visit my store to experience single-origin, house roasted coffee. My clientele is a mixture of tourists, students and professionals nearby mixed in with connoisseurs who drive to my shop because they like that I'm not a corporate store and that I don't require mass appeal to stay in business.\n",
    "\n",
    "I've been looking to expand my business outside of the Phoenix metro area, and recently met a coffee roaster based in Colorado, and he said time and again how \"local\" is so important in Colorado. I left the conversation thinking that I'd love to buy his coffee, but would have trouble marketing and selling that in my shop in Tempe. It got me thinking that I should explore expanding into a new market, where I could re-invent portions of my business, and really impress sustainability and the \"local\" nature of Colorado-roasted coffee.  \n",
    "\n",
    "I remembered that WalletHub recently listed Denver as the fifth-fastest growing large city and they named several other cities near Denver high-growth cities, as well. Denver is also beautiful, is host to numerous universities, supports a wide variety of outdoor activities and has a rich and vibrant arts community. There are also numerous airlines that travel between Phoenix Sky Harbor and Denver International Airports. These attributes make Denver a viable location for me to expand.\n",
    "\n",
    "## Intended Audience\n",
    "\n",
    "While this study is limited in scope, namely the expansion of a single business, and may not have broad appeal, it does provide a working example and demonstrates the power of data in providing actionable intelligence to a business. If I were the business owner, it would help me to narrow my search to specific areas of Denver that might feel familiar and in which I could find similar customers, and help me to focus my efforts on other aspects of expansion, such as staffing, real-estate, and a modified business plan. \n"
   ]
  },
  {
   "cell_type": "markdown",
   "metadata": {},
   "source": [
    "## Data Used in the Study\n",
    "\n",
    "In order to solve the stated problem I am going to be combining data from multiple sources.\n",
    "\n",
    "* A list of target zip codes mostly in the City and County of Denver, CO and for Tempe, AZ\n",
    "* Demographic information for all the zip codes\n",
    "* Venue and attraction data from a LBSN\n",
    "\n",
    "The rest of this notebook relies on some imports. The following code imports what is necessary. Note that I'm using a module called `capstoneutils` which is of my own creation."
   ]
  },
  {
   "cell_type": "code",
   "execution_count": 2,
   "metadata": {},
   "outputs": [],
   "source": [
    "# Get imports in place. Note that I'm using a module I created for all the utility\n",
    "# functions, which will be linked in the final project\n",
    "import capstoneutils as csutil\n",
    "import pandas as pd"
   ]
  },
  {
   "cell_type": "markdown",
   "metadata": {},
   "source": [
    "### Zip Codes\n",
    "\n",
    "There were a number of sites with lists of zip codes for the City and County of Denver. Some, like Zillow, required me to pass a Captcha, and obviously are not friendly to scraping. Others, from inspection, were incomplete or out of date, having been based on 2010 Census data. I settled on using the data from Zip-Codes.com for the list of zip codes in the City and County of Denver. Note that I'll also be manually including two other zip codes: `80221` because it includes Regis University and spans both Denver and Adams County and `80302` because it includes most of Boulder and the University of Colorado, a university in the same NCAA conference as Arizona State in Tempe.\n",
    "\n",
    "The following code produces the list of zip codes I will be using and displays the last few to show the additions."
   ]
  },
  {
   "cell_type": "code",
   "execution_count": 3,
   "metadata": {},
   "outputs": [
    {
     "data": {
      "text/html": [
       "<div>\n",
       "<style scoped>\n",
       "    .dataframe tbody tr th:only-of-type {\n",
       "        vertical-align: middle;\n",
       "    }\n",
       "\n",
       "    .dataframe tbody tr th {\n",
       "        vertical-align: top;\n",
       "    }\n",
       "\n",
       "    .dataframe thead th {\n",
       "        text-align: right;\n",
       "    }\n",
       "</style>\n",
       "<table border=\"1\" class=\"dataframe\">\n",
       "  <thead>\n",
       "    <tr style=\"text-align: right;\">\n",
       "      <th></th>\n",
       "      <th>Zip Code</th>\n",
       "    </tr>\n",
       "  </thead>\n",
       "  <tbody>\n",
       "    <tr>\n",
       "      <th>29</th>\n",
       "      <td>80293</td>\n",
       "    </tr>\n",
       "    <tr>\n",
       "      <th>30</th>\n",
       "      <td>80294</td>\n",
       "    </tr>\n",
       "    <tr>\n",
       "      <th>31</th>\n",
       "      <td>80299</td>\n",
       "    </tr>\n",
       "    <tr>\n",
       "      <th>32</th>\n",
       "      <td>80221</td>\n",
       "    </tr>\n",
       "    <tr>\n",
       "      <th>33</th>\n",
       "      <td>80302</td>\n",
       "    </tr>\n",
       "  </tbody>\n",
       "</table>\n",
       "</div>"
      ],
      "text/plain": [
       "   Zip Code\n",
       "29    80293\n",
       "30    80294\n",
       "31    80299\n",
       "32    80221\n",
       "33    80302"
      ]
     },
     "execution_count": 3,
     "metadata": {},
     "output_type": "execute_result"
    }
   ],
   "source": [
    "# Scrape the page with the list of zip codes in the City and County of Denver\n",
    "den_zips = csutil.scrape_zipcodes()\n",
    "\n",
    "# Here we include our extra two zip codes\n",
    "extras = pd.DataFrame([{'Zip Code': 80221},{'Zip Code': 80302}])\n",
    "den_zips = den_zips.append(extras, ignore_index=True)\n",
    "den_zips.tail()"
   ]
  },
  {
   "cell_type": "markdown",
   "metadata": {},
   "source": [
    "### Demographics\n",
    "\n",
    "I am using HomeTownLocator.com to obtain the demographics for the various zip codes on my list and for Tempe, AZ. After looking at sources available for purchase and other sites, this one actually had the most friendly pages for scraping and offered some interesting features, like a *diversity index* which is essentially the probability that if one were to choose two people at random that those people would be of the same ethnicity. So its a measure of how diverse a community is, not of what ethnic group its composed.\n",
    "\n",
    "The site provides 19 features per zip code which are divided into four categories: Population, Housing, Income and Households. The following table summarizes the features in each category.\n",
    "\n",
    "| Section | Notes |\n",
    "| :--------- | :---|\n",
    "| Population | Total population, population in families, households, density and diversity index |\n",
    "| Housing | Total Housing Units (owner- and renter-occupied, vacant) and average  home values |\n",
    "| Income | Median and mean household income and per capita income |\n",
    "| Households | Total households, average household size, family households and average family size |\n",
    "\n",
    "The following code produces the sample demographics data for Tempe, AZ"
   ]
  },
  {
   "cell_type": "code",
   "execution_count": 4,
   "metadata": {},
   "outputs": [
    {
     "data": {
      "text/html": [
       "<div>\n",
       "<style scoped>\n",
       "    .dataframe tbody tr th:only-of-type {\n",
       "        vertical-align: middle;\n",
       "    }\n",
       "\n",
       "    .dataframe tbody tr th {\n",
       "        vertical-align: top;\n",
       "    }\n",
       "\n",
       "    .dataframe thead th {\n",
       "        text-align: right;\n",
       "    }\n",
       "</style>\n",
       "<table border=\"1\" class=\"dataframe\">\n",
       "  <thead>\n",
       "    <tr style=\"text-align: right;\">\n",
       "      <th></th>\n",
       "      <th>ZipCode</th>\n",
       "      <th>Total Population</th>\n",
       "      <th>Population in Households</th>\n",
       "      <th>Population in Familes</th>\n",
       "      <th>Population in Group Qrtrs</th>\n",
       "      <th>Population Density2</th>\n",
       "      <th>Diversity Index3</th>\n",
       "      <th>Median Household Income</th>\n",
       "      <th>Average Household Income</th>\n",
       "      <th>Per Capita Income</th>\n",
       "      <th>Total Housing Units</th>\n",
       "      <th>Owner Occupied HU</th>\n",
       "      <th>Renter Occupied HU</th>\n",
       "      <th>Vacant Housing Units</th>\n",
       "      <th>Median Home Value</th>\n",
       "      <th>Average Home Value</th>\n",
       "      <th>Total Households</th>\n",
       "      <th>Average Household Size</th>\n",
       "      <th>Family Households</th>\n",
       "      <th>Average Family Size</th>\n",
       "    </tr>\n",
       "  </thead>\n",
       "  <tbody>\n",
       "    <tr>\n",
       "      <th>0</th>\n",
       "      <td>85281</td>\n",
       "      <td>70074</td>\n",
       "      <td>58682</td>\n",
       "      <td>26833</td>\n",
       "      <td>11392</td>\n",
       "      <td>5453</td>\n",
       "      <td>74</td>\n",
       "      <td>36193</td>\n",
       "      <td>47853</td>\n",
       "      <td>20533</td>\n",
       "      <td>31443</td>\n",
       "      <td>5416</td>\n",
       "      <td>21935</td>\n",
       "      <td>4092</td>\n",
       "      <td>197426</td>\n",
       "      <td>224072</td>\n",
       "      <td>27351</td>\n",
       "      <td>2.15</td>\n",
       "      <td>8653</td>\n",
       "      <td>3</td>\n",
       "    </tr>\n",
       "  </tbody>\n",
       "</table>\n",
       "</div>"
      ],
      "text/plain": [
       "   ZipCode  Total Population  Population in Households  Population in Familes  \\\n",
       "0    85281             70074                     58682                  26833   \n",
       "\n",
       "   Population in Group Qrtrs  Population Density2  Diversity Index3  \\\n",
       "0                      11392                 5453                74   \n",
       "\n",
       "   Median Household Income  Average Household Income  Per Capita Income  \\\n",
       "0                    36193                     47853              20533   \n",
       "\n",
       "   Total Housing Units  Owner Occupied HU  Renter Occupied HU  \\\n",
       "0                31443               5416               21935   \n",
       "\n",
       "   Vacant Housing Units  Median Home Value  Average Home Value  \\\n",
       "0                  4092             197426              224072   \n",
       "\n",
       "   Total Households  Average Household Size  Family Households  \\\n",
       "0             27351                    2.15               8653   \n",
       "\n",
       "   Average Family Size  \n",
       "0                    3  "
      ]
     },
     "execution_count": 4,
     "metadata": {},
     "output_type": "execute_result"
    }
   ],
   "source": [
    "tempe_demog = pd.DataFrame(csutil.scrape_demographics(85281, 'arizona'), index=[0])\n",
    "tempe_demog"
   ]
  },
  {
   "cell_type": "markdown",
   "metadata": {},
   "source": [
    "### Location Data\n",
    "\n",
    "I am using a Location-Based Social Network (LBSN) called Foursquare to obtain information about the venues and attractions that exist in each of the zip codes and how they are categorized. This data combined with the demographic data will hopefully provide me a good base upon which to cluster and find those zip codes that are most similar to Tempe, AZ.\n",
    "\n",
    "The following code shows an example of the venue and attraction data in Tempe, AZ"
   ]
  },
  {
   "cell_type": "code",
   "execution_count": 5,
   "metadata": {},
   "outputs": [
    {
     "name": "stdout",
     "output_type": "stream",
     "text": [
      "85281, Tempe, AZ has coordinates 33.4366655,-111.9403254\n"
     ]
    },
    {
     "data": {
      "text/html": [
       "<div>\n",
       "<style scoped>\n",
       "    .dataframe tbody tr th:only-of-type {\n",
       "        vertical-align: middle;\n",
       "    }\n",
       "\n",
       "    .dataframe tbody tr th {\n",
       "        vertical-align: top;\n",
       "    }\n",
       "\n",
       "    .dataframe thead th {\n",
       "        text-align: right;\n",
       "    }\n",
       "</style>\n",
       "<table border=\"1\" class=\"dataframe\">\n",
       "  <thead>\n",
       "    <tr style=\"text-align: right;\">\n",
       "      <th></th>\n",
       "      <th>Neighborhood</th>\n",
       "      <th>Neighborhood Latitude</th>\n",
       "      <th>Neighborhood Longitude</th>\n",
       "      <th>Venue</th>\n",
       "      <th>Venue Latitude</th>\n",
       "      <th>Venue Longitude</th>\n",
       "      <th>Venue Category</th>\n",
       "    </tr>\n",
       "  </thead>\n",
       "  <tbody>\n",
       "    <tr>\n",
       "      <th>0</th>\n",
       "      <td>85281</td>\n",
       "      <td>33.436665</td>\n",
       "      <td>-111.940325</td>\n",
       "      <td>Tempe Town Lake</td>\n",
       "      <td>33.433304</td>\n",
       "      <td>-111.936264</td>\n",
       "      <td>Lake</td>\n",
       "    </tr>\n",
       "    <tr>\n",
       "      <th>1</th>\n",
       "      <td>85281</td>\n",
       "      <td>33.436665</td>\n",
       "      <td>-111.940325</td>\n",
       "      <td>Tempe Beach Park</td>\n",
       "      <td>33.431625</td>\n",
       "      <td>-111.942087</td>\n",
       "      <td>Park</td>\n",
       "    </tr>\n",
       "    <tr>\n",
       "      <th>2</th>\n",
       "      <td>85281</td>\n",
       "      <td>33.436665</td>\n",
       "      <td>-111.940325</td>\n",
       "      <td>AC Hotel by Marriott</td>\n",
       "      <td>33.430929</td>\n",
       "      <td>-111.937336</td>\n",
       "      <td>Hotel</td>\n",
       "    </tr>\n",
       "    <tr>\n",
       "      <th>3</th>\n",
       "      <td>85281</td>\n",
       "      <td>33.436665</td>\n",
       "      <td>-111.940325</td>\n",
       "      <td>Culinary Dropout at Farmer Arts District</td>\n",
       "      <td>33.429122</td>\n",
       "      <td>-111.943940</td>\n",
       "      <td>Gastropub</td>\n",
       "    </tr>\n",
       "    <tr>\n",
       "      <th>4</th>\n",
       "      <td>85281</td>\n",
       "      <td>33.436665</td>\n",
       "      <td>-111.940325</td>\n",
       "      <td>The Yard</td>\n",
       "      <td>33.429118</td>\n",
       "      <td>-111.943979</td>\n",
       "      <td>Bar</td>\n",
       "    </tr>\n",
       "  </tbody>\n",
       "</table>\n",
       "</div>"
      ],
      "text/plain": [
       "  Neighborhood  Neighborhood Latitude  Neighborhood Longitude  \\\n",
       "0        85281              33.436665             -111.940325   \n",
       "1        85281              33.436665             -111.940325   \n",
       "2        85281              33.436665             -111.940325   \n",
       "3        85281              33.436665             -111.940325   \n",
       "4        85281              33.436665             -111.940325   \n",
       "\n",
       "                                      Venue  Venue Latitude  Venue Longitude  \\\n",
       "0                           Tempe Town Lake       33.433304      -111.936264   \n",
       "1                          Tempe Beach Park       33.431625      -111.942087   \n",
       "2                      AC Hotel by Marriott       33.430929      -111.937336   \n",
       "3  Culinary Dropout at Farmer Arts District       33.429122      -111.943940   \n",
       "4                                  The Yard       33.429118      -111.943979   \n",
       "\n",
       "  Venue Category  \n",
       "0           Lake  \n",
       "1           Park  \n",
       "2          Hotel  \n",
       "3      Gastropub  \n",
       "4            Bar  "
      ]
     },
     "execution_count": 5,
     "metadata": {},
     "output_type": "execute_result"
    }
   ],
   "source": [
    "# Geocode Tempe using the Google API\n",
    "tempe_lat, tempe_lon = csutil.get_latlon('85281')\n",
    "print('85281, Tempe, AZ has coordinates {},{}'.format(tempe_lat, tempe_lon))\n",
    "\n",
    "# Now get the top 100 venues in Tempe and show an example of that data\n",
    "tempe_venues = csutil.getNearbyVenues(names=['85281'], \n",
    "                                 latitudes=[tempe_lat], \n",
    "                                 longitudes=[tempe_lon])\n",
    "tempe_venues.head()"
   ]
  }
 ],
 "metadata": {
  "cite2c": {
   "citations": {
    "6728566/7H3RD9MJ": {
     "URL": "https://www.onlyinyourstate.com/colorado/denver/denver-most-beautiful-city/",
     "author": [
      {
       "family": "Annie Sandmeier",
       "given": ""
      }
     ],
     "container-title": "Only In Your State",
     "id": "6728566/7H3RD9MJ",
     "title": "14 Photos That Prove Denver Is The Most Beautiful City In The Country",
     "type": "webpage"
    },
    "6728566/B9FVX7JF": {
     "URL": "https://www.denver.org/things-to-do/family-friendly/outdoor-adventures/",
     "container-title": "Denver - The Mile High City",
     "id": "6728566/B9FVX7JF",
     "title": "Outdoor and Urban Adventures in Denver",
     "type": "webpage"
    },
    "6728566/F7HR626D": {
     "URL": "https://www.niche.com/colleges/search/best-colleges/m/denver-metro-area/",
     "container-title": "Niche",
     "id": "6728566/F7HR626D",
     "title": "2019 Best Colleges in the Denver Area",
     "type": "webpage"
    },
    "6728566/IVRAVI58": {
     "URL": "https://psmag.com/economics/history-of-coffee-shop-as-symbol-for-gentrification",
     "author": [
      {
       "family": "Katie Kilkenny",
       "given": ""
      }
     ],
     "container-title": "Pacific Standard",
     "id": "6728566/IVRAVI58",
     "issued": {
      "day": 25,
      "month": 7,
      "year": 2017
     },
     "title": "A Brief History of the Coffee Shop as a Symbol for Gentrification",
     "type": "webpage"
    },
    "6728566/UAFTXS6N": {
     "URL": "https://www.denver.org/things-to-do/denver-arts-culture/",
     "container-title": "Denver - The Mile High City",
     "id": "6728566/UAFTXS6N",
     "title": "Denver Arts and Culture",
     "type": "webpage"
    },
    "6728566/WNRDCCAF": {
     "URL": "https://wallethub.com/edu/fastest-growing-cities/7010/",
     "author": [
      {
       "family": "Adam McCann",
       "given": "Financial Writer"
      }
     ],
     "container-title": "WalletHub",
     "id": "6728566/WNRDCCAF",
     "issued": {
      "day": 1,
      "month": 10,
      "year": 2018
     },
     "title": "Fastest-Growing Cities in America",
     "type": "webpage"
    }
   }
  },
  "kernelspec": {
   "display_name": "Python 3",
   "language": "python",
   "name": "python3"
  },
  "language_info": {
   "codemirror_mode": {
    "name": "ipython",
    "version": 3
   },
   "file_extension": ".py",
   "mimetype": "text/x-python",
   "name": "python",
   "nbconvert_exporter": "python",
   "pygments_lexer": "ipython3",
   "version": "3.7.0"
  }
 },
 "nbformat": 4,
 "nbformat_minor": 2
}
