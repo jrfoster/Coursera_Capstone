{
 "cells": [
  {
   "cell_type": "markdown",
   "metadata": {},
   "source": [
    "# Applied Data Science Capstone\n",
    "\n",
    "This notebook contains the study for the IBM Applied Data Science Capstone Project on Coursera. In this study I consider myself to be the owner of an existing, successful, brick-and-mortar coffee shop near Arizona State University in Tempe, AZ and seek to find a neighborhood into which I can expand in or near the City and County of Denver, CO. Using demographic and location data from a Location-Based Social Network (LBSN) I will attempt to use K-Means Clustering to find similar locations in Denver that I'm hoping will allow me to limit my search areas and focus instead on more specific location and available real-estate.\n",
    "\n",
    "## Background\n",
    "\n",
    "I identify my shop with those small coffee shops that took root mostly in immigrant neighborhoods in the United States during the 1950s and '60s. While mine is in a modern, suburban area, people with some leisure time and some money to spare still visit my store to experience single-origin, house roasted coffee. My clientele is a mixture of tourists, students and professionals nearby mixed in with connoisseurs who drive to my shop because they like that I'm not a corporate store and that I don't require mass appeal to stay in business.\n",
    "\n",
    "I've been looking to expand my business outside of the Phoenix metro area, and recently met a coffee roaster based in Colorado, and he said time and again how \"local\" is so important in Colorado. I left the conversation thinking that I'd love to buy his coffee, but would have trouble marketing and selling that in my shop in Tempe. It got me thinking that I should explore expanding into a new market, where I could re-invent portions of my business, and really impress sustainability and the \"local\" nature of Colorado-roasted coffee.  \n",
    "\n",
    "I remembered that WalletHub recently listed Denver as the fifth-fastest growing large city and they named several other cities near Denver high-growth cities, as well. Denver is also beautiful, is host to numerous universities, supports a wide variety of outdoor activities and has a rich and vibrant arts community. There are also numerous airlines that travel between Phoenix Sky Harbor and Denver International Airports. These attributes make Denver a viable location for me to expand.\n",
    "\n",
    "## Intended Audience\n",
    "\n",
    "While this study is limited in scope, namely the expansion of a single business, and may not have broad appeal, it does provide a working example and demonstrates the power of data in providing actionable intelligence to a business. If I were the business owner, it would help me to narrow my search to specific areas of Denver that might feel familiar and in which I could find similar customers, and help me to focus my efforts on other aspects of expansion, such as staffing, real-estate, and a modified business plan. "
   ]
  }
 ],
 "metadata": {
  "kernelspec": {
   "display_name": "Python 3",
   "language": "python",
   "name": "python3"
  },
  "language_info": {
   "codemirror_mode": {
    "name": "ipython",
    "version": 3
   },
   "file_extension": ".py",
   "mimetype": "text/x-python",
   "name": "python",
   "nbconvert_exporter": "python",
   "pygments_lexer": "ipython3",
   "version": "3.7.0"
  },
  "latex_metadata": {
   "author": "Jason Foster",
   "title": "Expanding My Business"
  }
 },
 "nbformat": 4,
 "nbformat_minor": 2
}
