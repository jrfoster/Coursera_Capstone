{
 "cells": [
  {
   "cell_type": "markdown",
   "metadata": {},
   "source": [
    "# The Battle of the Neighborhoods (Week 1)\n",
    "\n",
    "### Summary\n",
    "\n",
    "The main goal of the IBM Applied Data Science Capstone project is to compare various neighborhoods in Toronto, Ontario, CA by exploring them using location data, segmenting them into similar clusters and comparing them based on various aspects such as the services they might provide, or potentially why certain venues are popular or possibly, why people complain about certain venues.\n",
    "\n",
    "This notebook contains the first 'stage' of the capstone project. It primarily contains the code to obtain the neighborhood and borough data for the city of Toronto. \n",
    "\n",
    "### Obtaining Neighborhood Data\n",
    "Unlike other cities, like New York, Toronto's neighborhood data is not readily available on the Internet in a directly consumable format. However, for this data, a [Wikipedia page](https://en.wikipedia.org/wiki/List_of_postal_codes_of_Canada:_M) exists that contains data we can use to divide the city into boroughs and neighborhoods.\n",
    "\n",
    "First, we get our imports in place. We are using `Pandas`, as well as `Requests` to scrape the page and `BeautifulSoup` for parsing the resulting HTML."
   ]
  },
  {
   "cell_type": "code",
   "execution_count": 1,
   "metadata": {},
   "outputs": [],
   "source": [
    "import pandas as pd\n",
    "import requests\n",
    "from bs4 import BeautifulSoup"
   ]
  },
  {
   "cell_type": "markdown",
   "metadata": {},
   "source": [
    "To utilize the Wikipedia page, we will need to perform the following steps:\n",
    "1. Scrape the HTML from the page\n",
    "2. Parse the page, locate the relevant data in an HTML table and transform it to a Pandas DataFrame\n",
    "3. Perform some data wrangling to deal with neighborhoods and boroughs that are 'not assigned' in the data and to combine the data in a useful way\n",
    "\n",
    "The code block below performs the steps and then lists the shape of the resulting DataFrame. Note that I performed some manual data wrangling utilizing SQL Server, to obtain the goal of the final shape of the DataFrame. Also note that the code below makes some key assumptions:\n",
    "* Wikipedia doesn't change the existence, location, structure or content of the given page\n",
    "* The HTML page only contains exactly one table with class `wikitable sortable`\n",
    "* Each row in that HTML table contains data"
   ]
  },
  {
   "cell_type": "code",
   "execution_count": 2,
   "metadata": {},
   "outputs": [
    {
     "data": {
      "text/html": [
       "<div>\n",
       "<style scoped>\n",
       "    .dataframe tbody tr th:only-of-type {\n",
       "        vertical-align: middle;\n",
       "    }\n",
       "\n",
       "    .dataframe tbody tr th {\n",
       "        vertical-align: top;\n",
       "    }\n",
       "\n",
       "    .dataframe thead th {\n",
       "        text-align: right;\n",
       "    }\n",
       "</style>\n",
       "<table border=\"1\" class=\"dataframe\">\n",
       "  <thead>\n",
       "    <tr style=\"text-align: right;\">\n",
       "      <th></th>\n",
       "      <th>PostalCode</th>\n",
       "      <th>Borough</th>\n",
       "      <th>Neighborhood</th>\n",
       "    </tr>\n",
       "  </thead>\n",
       "  <tbody>\n",
       "    <tr>\n",
       "      <th>0</th>\n",
       "      <td>M1B</td>\n",
       "      <td>Scarborough</td>\n",
       "      <td>Rouge,Malvern</td>\n",
       "    </tr>\n",
       "    <tr>\n",
       "      <th>1</th>\n",
       "      <td>M1C</td>\n",
       "      <td>Scarborough</td>\n",
       "      <td>Highland Creek,Rouge Hill,Port Union</td>\n",
       "    </tr>\n",
       "    <tr>\n",
       "      <th>2</th>\n",
       "      <td>M1E</td>\n",
       "      <td>Scarborough</td>\n",
       "      <td>Guildwood,Morningside,West Hill</td>\n",
       "    </tr>\n",
       "    <tr>\n",
       "      <th>3</th>\n",
       "      <td>M1G</td>\n",
       "      <td>Scarborough</td>\n",
       "      <td>Woburn</td>\n",
       "    </tr>\n",
       "    <tr>\n",
       "      <th>4</th>\n",
       "      <td>M1H</td>\n",
       "      <td>Scarborough</td>\n",
       "      <td>Cedarbrae</td>\n",
       "    </tr>\n",
       "  </tbody>\n",
       "</table>\n",
       "</div>"
      ],
      "text/plain": [
       "  PostalCode      Borough                          Neighborhood\n",
       "0        M1B  Scarborough                         Rouge,Malvern\n",
       "1        M1C  Scarborough  Highland Creek,Rouge Hill,Port Union\n",
       "2        M1E  Scarborough       Guildwood,Morningside,West Hill\n",
       "3        M1G  Scarborough                                Woburn\n",
       "4        M1H  Scarborough                             Cedarbrae"
      ]
     },
     "execution_count": 2,
     "metadata": {},
     "output_type": "execute_result"
    }
   ],
   "source": [
    "# Get the HTML from the Wiki page in the assignment\n",
    "wiki_url = requests.get('https://en.wikipedia.org/wiki/List_of_postal_codes_of_Canada:_M').text\n",
    "\n",
    "# Create a BeautifulSoup object out of the HTML using the lxml parser\n",
    "soup = BeautifulSoup(wiki_url, 'lxml')\n",
    "\n",
    "# From inspection, the table in the page has a class of 'wikitable sortable'\n",
    "# and is the only such table currently in the document. If one more is added\n",
    "# this code will fail because pc_table will become a list.\n",
    "pc_table = soup.find('table', {'class':'wikitable sortable'})\n",
    "\n",
    "# Get all the rows in the table we found\n",
    "table_rows = pc_table.find_all('tr')\n",
    "\n",
    "# Go through all the rows and create a list for each one containing all the\n",
    "# data elements on that row. We use rstrip() to remove the trailing \\n, which\n",
    "# from inspection is included on the last data item in the row. This code\n",
    "# assumes that the the text attribute of the row is not None. Each is appended\n",
    "# to an empty list\n",
    "l = []\n",
    "for tr in table_rows:\n",
    "    td = tr.find_all('td')\n",
    "    row = [tr.text.rstrip() for tr in td]\n",
    "    if (len(row) > 0 and row[1] != 'Not assigned'):\n",
    "        l.append(row)\n",
    "\n",
    "# Create a Pandas DataFrame from the list we built with appropriately named columns\n",
    "pc_df = pd.DataFrame(l, columns=['PostalCode', 'Borough', 'Neighborhood'])\n",
    "\n",
    "# Group the DataFrame by PostalCode and Borough and use the apply method to join\n",
    "# Neighborhoods together with a comma in between. Create a new DataFrame from the\n",
    "# result and reset the index\n",
    "pc_df = pc_df.groupby(by=['PostalCode','Borough'])['Neighborhood'].apply(','.join).to_frame().reset_index()\n",
    "\n",
    "# We excluded Boroughs that were 'Not assigned', however, from inspection, there is\n",
    "# exactly one neighborhood that has 'Not assigned' for the neighborhood, Queen's Park.\n",
    "# For this we update that one row's neighborhood with the value of its borough\n",
    "pc_df.loc[pc_df.Neighborhood == 'Not assigned', 'Neighborhood'] = pc_df.loc[pc_df.Neighborhood == 'Not assigned', 'Borough']\n",
    "\n",
    "# Display the first few rows\n",
    "pc_df.head()"
   ]
  },
  {
   "cell_type": "markdown",
   "metadata": {},
   "source": [
    "The resulting DataFrame, based on manual, external validation in a relational database, should have 103 rows."
   ]
  },
  {
   "cell_type": "code",
   "execution_count": 3,
   "metadata": {},
   "outputs": [
    {
     "name": "stdout",
     "output_type": "stream",
     "text": [
      "The resulting DataFrame has 103 rows\n"
     ]
    }
   ],
   "source": [
    "# The shape of the dataframe, based on external validation, should be (103,3)\n",
    "print('The resulting DataFrame has {} rows'.format(pc_df.shape[0]))"
   ]
  }
 ],
 "metadata": {
  "kernelspec": {
   "display_name": "Python 3",
   "language": "python",
   "name": "python3"
  },
  "language_info": {
   "codemirror_mode": {
    "name": "ipython",
    "version": 3
   },
   "file_extension": ".py",
   "mimetype": "text/x-python",
   "name": "python",
   "nbconvert_exporter": "python",
   "pygments_lexer": "ipython3",
   "version": "3.7.0"
  }
 },
 "nbformat": 4,
 "nbformat_minor": 2
}
