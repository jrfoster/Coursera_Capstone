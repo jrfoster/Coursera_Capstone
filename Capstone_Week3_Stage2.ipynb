{
 "cells": [
  {
   "cell_type": "markdown",
   "metadata": {},
   "source": [
    "# The Battle of the Neighborhoods (Week 1)\n",
    "\n",
    "### Summary\n",
    "\n",
    "The main goal of the IBM Applied Data Science Capstone project is to compare various neighborhoods in Toronto, Ontario, CA by exploring them using location data, segmenting them into similar clusters and comparing them based on various aspects such as the services they might provide, or potentially why certain venues are popular or possibly, why people complain about certain venues.\n",
    "\n",
    "This notebook contains the second 'stage' of the capstone project. It contains the code to obtain the neighborhood data as well as code to geocode all those neighborhoods so we can utilize the location data provider Foursquare.\n",
    "\n",
    "### Obtaining Neighborhood Data\n",
    "Unlike other cities, like New York, Toronto's neighborhood data is not readily available on the Internet in a directly consumable format. However, for this data, a [Wikipedia page](https://en.wikipedia.org/wiki/List_of_postal_codes_of_Canada:_M) exists that contains data we can use to divide the city into boroughs and neighborhoods.\n",
    "\n",
    "First, we get our imports in place. We are using `Pandas`, as well as `Requests` to scrape the page and `BeautifulSoup` for parsing the resulting HTML."
   ]
  },
  {
   "cell_type": "code",
   "execution_count": 1,
   "metadata": {},
   "outputs": [],
   "source": [
    "import pandas as pd\n",
    "import requests\n",
    "from bs4 import BeautifulSoup"
   ]
  },
  {
   "cell_type": "markdown",
   "metadata": {},
   "source": [
    "To utilize the Wikipedia page, we will need to perform the following steps:\n",
    "1. Scrape the HTML from the page\n",
    "2. Parse the page, locate the relevant data in an HTML table and transform it to a Pandas DataFrame\n",
    "3. Perform some data wrangling to deal with neighborhoods and boroughs that are 'not assigned' in the data and to combine the data in a useful way\n",
    "\n",
    "The code block below performs the steps and then lists the shape of the resulting DataFrame. Note that I performed some manual data wrangling utilizing SQL Server, to obtain the goal of the final shape of the DataFrame. Also note that the code below makes some key assumptions:\n",
    "* Wikipedia doesn't change the existence, location, structure or content of the given page\n",
    "* The HTML page only contains exactly one table with class `wikitable sortable`\n",
    "* Each row in that HTML table contains data"
   ]
  },
  {
   "cell_type": "code",
   "execution_count": 2,
   "metadata": {},
   "outputs": [
    {
     "data": {
      "text/html": [
       "<div>\n",
       "<style scoped>\n",
       "    .dataframe tbody tr th:only-of-type {\n",
       "        vertical-align: middle;\n",
       "    }\n",
       "\n",
       "    .dataframe tbody tr th {\n",
       "        vertical-align: top;\n",
       "    }\n",
       "\n",
       "    .dataframe thead th {\n",
       "        text-align: right;\n",
       "    }\n",
       "</style>\n",
       "<table border=\"1\" class=\"dataframe\">\n",
       "  <thead>\n",
       "    <tr style=\"text-align: right;\">\n",
       "      <th></th>\n",
       "      <th>PostalCode</th>\n",
       "      <th>Borough</th>\n",
       "      <th>Neighborhood</th>\n",
       "    </tr>\n",
       "  </thead>\n",
       "  <tbody>\n",
       "    <tr>\n",
       "      <th>0</th>\n",
       "      <td>M1B</td>\n",
       "      <td>Scarborough</td>\n",
       "      <td>Rouge,Malvern</td>\n",
       "    </tr>\n",
       "    <tr>\n",
       "      <th>1</th>\n",
       "      <td>M1C</td>\n",
       "      <td>Scarborough</td>\n",
       "      <td>Highland Creek,Rouge Hill,Port Union</td>\n",
       "    </tr>\n",
       "    <tr>\n",
       "      <th>2</th>\n",
       "      <td>M1E</td>\n",
       "      <td>Scarborough</td>\n",
       "      <td>Guildwood,Morningside,West Hill</td>\n",
       "    </tr>\n",
       "    <tr>\n",
       "      <th>3</th>\n",
       "      <td>M1G</td>\n",
       "      <td>Scarborough</td>\n",
       "      <td>Woburn</td>\n",
       "    </tr>\n",
       "    <tr>\n",
       "      <th>4</th>\n",
       "      <td>M1H</td>\n",
       "      <td>Scarborough</td>\n",
       "      <td>Cedarbrae</td>\n",
       "    </tr>\n",
       "  </tbody>\n",
       "</table>\n",
       "</div>"
      ],
      "text/plain": [
       "  PostalCode      Borough                          Neighborhood\n",
       "0        M1B  Scarborough                         Rouge,Malvern\n",
       "1        M1C  Scarborough  Highland Creek,Rouge Hill,Port Union\n",
       "2        M1E  Scarborough       Guildwood,Morningside,West Hill\n",
       "3        M1G  Scarborough                                Woburn\n",
       "4        M1H  Scarborough                             Cedarbrae"
      ]
     },
     "execution_count": 2,
     "metadata": {},
     "output_type": "execute_result"
    }
   ],
   "source": [
    "# Get the HTML from the Wiki page in the assignment\n",
    "wiki_url = requests.get('https://en.wikipedia.org/wiki/List_of_postal_codes_of_Canada:_M').text\n",
    "\n",
    "# Create a BeautifulSoup object out of the HTML using the lxml parser\n",
    "soup = BeautifulSoup(wiki_url, 'lxml')\n",
    "\n",
    "# From inspection, the table in the page has a class of 'wikitable sortable'\n",
    "# and is the only such table currently in the document. If one more is added\n",
    "# this code will fail because pc_table will become a list.\n",
    "pc_table = soup.find('table', {'class':'wikitable sortable'})\n",
    "\n",
    "# Get all the rows in the table we found\n",
    "table_rows = pc_table.find_all('tr')\n",
    "\n",
    "# Go through all the rows and create a list for each one containing all the\n",
    "# data elements on that row. We use rstrip() to remove the trailing \\n, which\n",
    "# from inspection is included on the last data item in the row. This code\n",
    "# assumes that the the text attribute of the row is not None. Each is appended\n",
    "# to an empty list\n",
    "l = []\n",
    "for tr in table_rows:\n",
    "    td = tr.find_all('td')\n",
    "    row = [tr.text.rstrip() for tr in td]\n",
    "    if (len(row) > 0 and row[1] != 'Not assigned'):\n",
    "        l.append(row)\n",
    "\n",
    "# Create a Pandas DataFrame from the list we built with appropriately named columns\n",
    "pc_df = pd.DataFrame(l, columns=['PostalCode', 'Borough', 'Neighborhood'])\n",
    "\n",
    "# Group the DataFrame by PostalCode and Borough and use the apply method to join\n",
    "# Neighborhoods together with a comma in between. Create a new DataFrame from the\n",
    "# result and reset the index\n",
    "pc_df = pc_df.groupby(by=['PostalCode','Borough'])['Neighborhood'].apply(','.join).to_frame().reset_index()\n",
    "\n",
    "# We excluded Boroughs that were 'Not assigned', however, from inspection, there is\n",
    "# exactly one neighborhood that has 'Not assigned' for the neighborhood, Queen's Park.\n",
    "# For this we update that one row's neighborhood with the value of its borough\n",
    "pc_df.loc[pc_df.Neighborhood == 'Not assigned', 'Neighborhood'] = pc_df.loc[pc_df.Neighborhood == 'Not assigned', 'Borough']\n",
    "\n",
    "# Display the first few rows\n",
    "pc_df.head()"
   ]
  },
  {
   "cell_type": "markdown",
   "metadata": {},
   "source": [
    "The resulting DataFrame, based on manual, external validation in a relational database, should have 103 rows."
   ]
  },
  {
   "cell_type": "code",
   "execution_count": 3,
   "metadata": {},
   "outputs": [
    {
     "name": "stdout",
     "output_type": "stream",
     "text": [
      "The resulting DataFrame has 103 rows\n"
     ]
    }
   ],
   "source": [
    "# The shape of the dataframe, based on external validation, should be (103,3)\n",
    "print('The resulting DataFrame has {} rows'.format(pc_df.shape[0]))"
   ]
  },
  {
   "cell_type": "markdown",
   "metadata": {},
   "source": [
    "### Geocoding Neighborhood Data\n",
    "\n",
    "Now that we have a DataFrame with the postal code, borough and neighborhoods, we almost have what we need to use the Foursquare API. First, however, we must geocode each postal code so that we can use geographic coordinates in the Foursquare API.\n",
    "\n",
    "There are a few options available for obtaining latitude and longitude for postal codes. The most reliable option would be the Google Maps API, which provides highly efficient geocoding services, but is no longer free of charge. There is also a Python package called `Geocoder` that utilizes myriad other services, (e.g. ArcGIS, Baidu, Bing, Geocoder.ca, MapQuest, et al) to perform geocoding. One problem with this package, though, is that many times a call to it will return `None`, and so we have to try the call many times, to obtain latitude and longitude, and sometimes we cannot.\n",
    "\n",
    "Because of the cost associated with Google Maps API and the non-deterministic behavior of `Geocoder` I have chosen to use the text file made available for the capstone project that contains pre-geocoded postal codes, located [here](http://cocl.us/Geospatial_data).\n",
    "\n",
    "The following code will read the file from the given location into a DataFrame and then inner join it to the neighborhood DataFrame on postal code. Some care is taken to ensure that the join is truly one-to-one and that each postal code exists in both DataFrames. The resulting DataFrame should have the same 103 rows as before and all rows should have the indicator listed as both (e.g. `_merge == 'both'`). Finally the duplicated join column and the indicator column `_merge` are dropped."
   ]
  },
  {
   "cell_type": "code",
   "execution_count": 4,
   "metadata": {},
   "outputs": [
    {
     "name": "stdout",
     "output_type": "stream",
     "text": [
      "The joined DataFrame has 103 rows, 0 of which with an indicator that is not 'both'\n"
     ]
    },
    {
     "data": {
      "text/html": [
       "<div>\n",
       "<style scoped>\n",
       "    .dataframe tbody tr th:only-of-type {\n",
       "        vertical-align: middle;\n",
       "    }\n",
       "\n",
       "    .dataframe tbody tr th {\n",
       "        vertical-align: top;\n",
       "    }\n",
       "\n",
       "    .dataframe thead th {\n",
       "        text-align: right;\n",
       "    }\n",
       "</style>\n",
       "<table border=\"1\" class=\"dataframe\">\n",
       "  <thead>\n",
       "    <tr style=\"text-align: right;\">\n",
       "      <th></th>\n",
       "      <th>PostalCode</th>\n",
       "      <th>Borough</th>\n",
       "      <th>Neighborhood</th>\n",
       "      <th>Latitude</th>\n",
       "      <th>Longitude</th>\n",
       "    </tr>\n",
       "  </thead>\n",
       "  <tbody>\n",
       "    <tr>\n",
       "      <th>0</th>\n",
       "      <td>M1B</td>\n",
       "      <td>Scarborough</td>\n",
       "      <td>Rouge,Malvern</td>\n",
       "      <td>43.806686</td>\n",
       "      <td>-79.194353</td>\n",
       "    </tr>\n",
       "    <tr>\n",
       "      <th>1</th>\n",
       "      <td>M1C</td>\n",
       "      <td>Scarborough</td>\n",
       "      <td>Highland Creek,Rouge Hill,Port Union</td>\n",
       "      <td>43.784535</td>\n",
       "      <td>-79.160497</td>\n",
       "    </tr>\n",
       "    <tr>\n",
       "      <th>2</th>\n",
       "      <td>M1E</td>\n",
       "      <td>Scarborough</td>\n",
       "      <td>Guildwood,Morningside,West Hill</td>\n",
       "      <td>43.763573</td>\n",
       "      <td>-79.188711</td>\n",
       "    </tr>\n",
       "    <tr>\n",
       "      <th>3</th>\n",
       "      <td>M1G</td>\n",
       "      <td>Scarborough</td>\n",
       "      <td>Woburn</td>\n",
       "      <td>43.770992</td>\n",
       "      <td>-79.216917</td>\n",
       "    </tr>\n",
       "    <tr>\n",
       "      <th>4</th>\n",
       "      <td>M1H</td>\n",
       "      <td>Scarborough</td>\n",
       "      <td>Cedarbrae</td>\n",
       "      <td>43.773136</td>\n",
       "      <td>-79.239476</td>\n",
       "    </tr>\n",
       "  </tbody>\n",
       "</table>\n",
       "</div>"
      ],
      "text/plain": [
       "  PostalCode      Borough                          Neighborhood   Latitude  \\\n",
       "0        M1B  Scarborough                         Rouge,Malvern  43.806686   \n",
       "1        M1C  Scarborough  Highland Creek,Rouge Hill,Port Union  43.784535   \n",
       "2        M1E  Scarborough       Guildwood,Morningside,West Hill  43.763573   \n",
       "3        M1G  Scarborough                                Woburn  43.770992   \n",
       "4        M1H  Scarborough                             Cedarbrae  43.773136   \n",
       "\n",
       "   Longitude  \n",
       "0 -79.194353  \n",
       "1 -79.160497  \n",
       "2 -79.188711  \n",
       "3 -79.216917  \n",
       "4 -79.239476  "
      ]
     },
     "execution_count": 4,
     "metadata": {},
     "output_type": "execute_result"
    }
   ],
   "source": [
    "# Read the latitude/longitude csv file from the location provided in the assignment\n",
    "lat_lon_coords = pd.read_csv('http://cocl.us/Geospatial_data')\n",
    "\n",
    "# Join the coordinates to the existing DataFrame on PostalCode.  We use a \n",
    "# validation of one-to-one which checks if merge keys are unique in both \n",
    "# left and right datasets as well as an indicator of the source of the row\n",
    "# after join.\n",
    "joined = pd.merge(pc_df, lat_lon_coords, how='inner', left_on='PostalCode', \n",
    "                  right_on='Postal Code', validate='1:1', indicator=True)\n",
    "\n",
    "# We should end up with a shape that is 4 columns wider than before but\n",
    "# with the same 103 rows the original had, os it should be (103, 7).\n",
    "# The indicator column should be both for all rows.\n",
    "print('The joined DataFrame has ' + \n",
    "      str(joined.shape[0]) + ' rows, ' +\n",
    "      str(joined[(joined['_merge'] != 'both')].size) +\n",
    "      ' of which with an indicator that is not \\'both\\'')\n",
    "\n",
    "# We can now drop the unnecessary and/or duplicated columns in the joined DataFrame\n",
    "# and display the first few rows for inspection.\n",
    "joined.drop(['Postal Code', '_merge'], axis=1, inplace=True)\n",
    "joined.head()"
   ]
  },
  {
   "cell_type": "code",
   "execution_count": null,
   "metadata": {},
   "outputs": [],
   "source": []
  }
 ],
 "metadata": {
  "kernelspec": {
   "display_name": "Python 3",
   "language": "python",
   "name": "python3"
  },
  "language_info": {
   "codemirror_mode": {
    "name": "ipython",
    "version": 3
   },
   "file_extension": ".py",
   "mimetype": "text/x-python",
   "name": "python",
   "nbconvert_exporter": "python",
   "pygments_lexer": "ipython3",
   "version": "3.7.0"
  }
 },
 "nbformat": 4,
 "nbformat_minor": 2
}
